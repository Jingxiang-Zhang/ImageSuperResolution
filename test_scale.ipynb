{
 "cells": [
  {
   "cell_type": "code",
   "execution_count": 76,
   "id": "5c2506a7",
   "metadata": {},
   "outputs": [],
   "source": [
    "import cv2\n",
    "import os\n",
    "import matplotlib.pyplot as plt\n",
    "import data_loader\n",
    "import SRCNN_model\n",
    "import torch\n",
    "import math\n",
    "from tqdm import tqdm\n",
    "import torch.nn as nn\n",
    "from criteria import SSIM, PSNR\n",
    "from torch.utils.data import Dataset\n",
    "from torch.utils.data import DataLoader\n",
    "import numpy as np\n",
    "\n",
    "base_path = r\"D:\\programming\\dataset\\DIV2K\"\n",
    "valid_hr = os.path.join(base_path, \"DIV2K_valid_HR\")\n",
    "valid_lr = os.path.join(base_path, \"DIV2K_valid_LR_bicubic_X2\")"
   ]
  },
  {
   "cell_type": "code",
   "execution_count": 106,
   "id": "777abfcf",
   "metadata": {},
   "outputs": [
    {
     "name": "stdout",
     "output_type": "stream",
     "text": [
      "load model parameter\n",
      "use device:  cuda:0\n"
     ]
    },
    {
     "name": "stderr",
     "output_type": "stream",
     "text": [
      "100%|████████████████████████████████████████████████████████████████████████████| 30320/30320 [41:44<00:00, 12.11it/s]\n"
     ]
    },
    {
     "name": "stdout",
     "output_type": "stream",
     "text": [
      "load model parameter\n",
      "use device:  cuda:0\n"
     ]
    },
    {
     "name": "stderr",
     "output_type": "stream",
     "text": [
      "100%|████████████████████████████████████████████████████████████████████████████| 30320/30320 [41:33<00:00, 12.16it/s]\n"
     ]
    },
    {
     "name": "stdout",
     "output_type": "stream",
     "text": [
      "load model parameter\n",
      "use device:  cuda:0\n"
     ]
    },
    {
     "name": "stderr",
     "output_type": "stream",
     "text": [
      "100%|████████████████████████████████████████████████████████████████████████████| 30320/30320 [41:58<00:00, 12.04it/s]\n"
     ]
    },
    {
     "name": "stdout",
     "output_type": "stream",
     "text": [
      "load model parameter\n",
      "use device:  cuda:0\n"
     ]
    },
    {
     "name": "stderr",
     "output_type": "stream",
     "text": [
      "100%|████████████████████████████████████████████████████████████████████████████| 30320/30320 [41:50<00:00, 12.08it/s]\n"
     ]
    }
   ],
   "source": [
    "def get_SRCNN_model(model_save_path=None):\n",
    "    \"\"\"\n",
    "    load SRCNN model, if no model_save_path, then init a new model\n",
    "    \"\"\"\n",
    "    model = SRCNN_model.SRCNN(padding=True)\n",
    "    if (model_save_path == None) or (not os.path.exists(model_save_path)):\n",
    "        print(\"init new model parameter\")\n",
    "        model.init_weights()\n",
    "        current_epoch = 0\n",
    "    else:\n",
    "        para = torch.load(model_save_path)\n",
    "        model.load_state_dict(para[\"state_dict\"])\n",
    "        current_epoch = para[\"epoch\"]\n",
    "        print(\"load model parameter\")\n",
    "    device = torch.device(\"cuda:0\" if torch.cuda.is_available() else \"cpu\")\n",
    "    model.to(device)\n",
    "    print(\"use device: \", device)\n",
    "    return model, device, current_epoch\n",
    "\n",
    "\n",
    "def SSNR_train(model, device, train_dataloader, val_dataloader,\n",
    "               current_epoch, model_save_path, max_epoch=10):\n",
    "    lr_begin = 0.01\n",
    "    criterion = nn.MSELoss()\n",
    "\n",
    "    with tqdm(total=len(train_dataloader) * max_epoch) as t:\n",
    "        t.update(len(train_dataloader) * current_epoch)  # update to current state\n",
    "        while current_epoch < max_epoch:\n",
    "            lr = math.pow(0.95, current_epoch) * lr_begin\n",
    "            optimizer = torch.optim.SGD([\n",
    "                {'params': model.conv1.parameters()},\n",
    "                {'params': model.conv2.parameters()},\n",
    "                {'params': model.conv3.parameters(), 'lr': lr * 0.1}\n",
    "            ], lr=lr, momentum=0.9)\n",
    "\n",
    "            for hr, lr in train_dataloader:\n",
    "                hr, lr = hr.to(device), lr.to(device)\n",
    "                lr_after = model(lr)\n",
    "                loss = criterion(lr_after, hr)\n",
    "                optimizer.zero_grad()\n",
    "                loss.backward()\n",
    "                optimizer.step()\n",
    "                t.update(1)\n",
    "            # test result\n",
    "            current_epoch += 1\n",
    "            torch.save({\"epoch\": current_epoch, \"state_dict\": model.state_dict()}, model_save_path)\n",
    "            \n",
    "            \n",
    "def script(h5_train_path, model_save_path, batch_size):\n",
    "    h5_train_path = os.path.join(base_path, h5_train_path)\n",
    "    model_save_path = os.path.join(base_path, model_save_path)\n",
    "\n",
    "    train_dataloader, val_dataloader = data_loader.create_train_val_data_loader(\n",
    "        h5_train_path, valid_hr, valid_lr, batch_size=batch_size)\n",
    "    \n",
    "    model, device, current_epoch = get_SRCNN_model(\n",
    "        model_save_path=model_save_path)\n",
    "    \n",
    "    SSNR_train(model, device, train_dataloader, val_dataloader,\n",
    "                   current_epoch, model_save_path, max_epoch=20)\n",
    "    \n",
    "script(\"train_scale2_channel\", \"SRCNN_X2.model\", 64)\n",
    "torch.cuda.empty_cache()\n",
    "script(\"train_scale3_channel\", \"SRCNN_X3.model\", 64)\n",
    "torch.cuda.empty_cache()\n",
    "script(\"train_scale4_channel\", \"SRCNN_X4.model\", 64)\n",
    "torch.cuda.empty_cache()\n",
    "script(\"train_scale5_channel\", \"SRCNN_X5.model\", 64)\n",
    "torch.cuda.empty_cache()"
   ]
  },
  {
   "cell_type": "code",
   "execution_count": null,
   "id": "cea9ea6e",
   "metadata": {},
   "outputs": [],
   "source": []
  },
  {
   "cell_type": "code",
   "execution_count": 80,
   "id": "eb916c2a",
   "metadata": {},
   "outputs": [],
   "source": [
    "class ValDataset_scale(Dataset):\n",
    "    def __init__(self, valid_hr, scale):\n",
    "        super(ValDataset_scale, self).__init__()\n",
    "        self.valid_hr = valid_hr\n",
    "        self.scale = scale\n",
    "\n",
    "    def __getitem__(self, idx):\n",
    "        idx = idx + 551\n",
    "        hrp = os.path.join(self.valid_hr, \"{:0>4}\".format(idx) + \".png\")  # open the image of\n",
    "        scale = self.scale\n",
    "        hr = cv2.imread(hrp)\n",
    "        \n",
    "        height, width, _ = hr.shape\n",
    "        lr_height, lr_width = height//scale, width//scale\n",
    "        lr = cv2.resize(hr, (lr_width, lr_height), interpolation=cv2.INTER_CUBIC)  # interpolation\n",
    "        lr = cv2.resize(lr, (width, height), interpolation=cv2.INTER_CUBIC)  # interpolation\n",
    "        \n",
    "        hr = cv2.cvtColor(hr, cv2.COLOR_BGR2YCR_CB)\n",
    "        lr = cv2.cvtColor(lr, cv2.COLOR_BGR2YCR_CB)\n",
    "        hr = np.expand_dims(hr[:,:,0], [0])\n",
    "        lr = np.expand_dims(lr[:,:,0], [0])\n",
    "             \n",
    "        hr = np.array(hr).astype(np.float32) / 255\n",
    "        lr = np.array(lr).astype(np.float32) / 255\n",
    "        return hr, lr\n",
    "\n",
    "    def __len__(self):\n",
    "        return 250\n",
    "    \n",
    "def get_ValDataset_scale(valid_hr, scale):\n",
    "    ValDataset_ = ValDataset_scale(valid_hr, scale)\n",
    "    val_dataloader = DataLoader(dataset=ValDataset_, batch_size=1,)\n",
    "    return val_dataloader\n"
   ]
  },
  {
   "cell_type": "code",
   "execution_count": 104,
   "id": "003d48d6",
   "metadata": {},
   "outputs": [],
   "source": [
    "def test_PSNR_with_scale(model, model_name, valid_hr, scale, device):\n",
    "    ValDataset = get_ValDataset_scale(valid_hr, scale)\n",
    "    psnr_list = list()\n",
    "    ssim_list = list()\n",
    "    with tqdm(total=250) as t:\n",
    "        for hr_y, lr_y in ValDataset:\n",
    "            hr_y = hr_y.numpy().squeeze()\n",
    "            hr_y = hr_y * 255\n",
    "\n",
    "            lr_y = lr_y.to(device)  # put into model\n",
    "            lr_y = model(lr_y)\n",
    "            lr_y = lr_y.cpu().data.numpy().squeeze()  # get the model result\n",
    "            lr_y[lr_y > 1] = 1  # cut Y channel, 16<=Y<=235\n",
    "            lr_y[lr_y < 0] = 0\n",
    "            \n",
    "            lr_y = lr_y * 255\n",
    "            psnr = PSNR(lr_y, hr_y, 255)  # test the result for RSCNN\n",
    "            ssim = SSIM(lr_y, hr_y)\n",
    "            psnr_list.append(psnr)\n",
    "            ssim_list.append(ssim)\n",
    "            t.update(1)\n",
    "            \n",
    "    print(\"start test: {} model, validation set scale: {}, PSNR: {}, SSIM: {}\".\\\n",
    "          format(model_name, scale, np.average(psnr_list), np.average(ssim_list)))\n"
   ]
  },
  {
   "cell_type": "code",
   "execution_count": 109,
   "id": "e90052c5",
   "metadata": {
    "scrolled": true
   },
   "outputs": [
    {
     "name": "stdout",
     "output_type": "stream",
     "text": [
      "load model parameter\n",
      "use device:  cuda:0\n"
     ]
    },
    {
     "name": "stderr",
     "output_type": "stream",
     "text": [
      "100%|████████████████████████████████████████████████████████████████████████████████| 250/250 [02:44<00:00,  1.52it/s]\n"
     ]
    },
    {
     "name": "stdout",
     "output_type": "stream",
     "text": [
      "start test: SRCNN_X2.model model, validation set scale: 2, PSNR: 31.213251188778457, SSIM: 0.8980322504792011\n"
     ]
    },
    {
     "name": "stderr",
     "output_type": "stream",
     "text": [
      "100%|████████████████████████████████████████████████████████████████████████████████| 250/250 [02:41<00:00,  1.55it/s]\n"
     ]
    },
    {
     "name": "stdout",
     "output_type": "stream",
     "text": [
      "start test: SRCNN_X2.model model, validation set scale: 3, PSNR: 27.339824494524954, SSIM: 0.8134522054615131\n"
     ]
    },
    {
     "name": "stderr",
     "output_type": "stream",
     "text": [
      "100%|████████████████████████████████████████████████████████████████████████████████| 250/250 [02:32<00:00,  1.63it/s]\n"
     ]
    },
    {
     "name": "stdout",
     "output_type": "stream",
     "text": [
      "start test: SRCNN_X2.model model, validation set scale: 4, PSNR: 25.827683196115792, SSIM: 0.7615179068023417\n"
     ]
    },
    {
     "name": "stderr",
     "output_type": "stream",
     "text": [
      "100%|████████████████████████████████████████████████████████████████████████████████| 250/250 [02:29<00:00,  1.67it/s]\n"
     ]
    },
    {
     "name": "stdout",
     "output_type": "stream",
     "text": [
      "start test: SRCNN_X2.model model, validation set scale: 5, PSNR: 24.523672858639323, SSIM: 0.7142607198620783\n",
      "load model parameter\n",
      "use device:  cuda:0\n"
     ]
    },
    {
     "name": "stderr",
     "output_type": "stream",
     "text": [
      "100%|████████████████████████████████████████████████████████████████████████████████| 250/250 [02:22<00:00,  1.75it/s]\n"
     ]
    },
    {
     "name": "stdout",
     "output_type": "stream",
     "text": [
      "start test: SRCNN_X3.model model, validation set scale: 2, PSNR: 29.853873357938717, SSIM: 0.8658124547457096\n"
     ]
    },
    {
     "name": "stderr",
     "output_type": "stream",
     "text": [
      "100%|████████████████████████████████████████████████████████████████████████████████| 250/250 [02:16<00:00,  1.83it/s]\n"
     ]
    },
    {
     "name": "stdout",
     "output_type": "stream",
     "text": [
      "start test: SRCNN_X3.model model, validation set scale: 3, PSNR: 27.35640663897105, SSIM: 0.8042295316262232\n"
     ]
    },
    {
     "name": "stderr",
     "output_type": "stream",
     "text": [
      "100%|████████████████████████████████████████████████████████████████████████████████| 250/250 [02:16<00:00,  1.83it/s]\n"
     ]
    },
    {
     "name": "stdout",
     "output_type": "stream",
     "text": [
      "start test: SRCNN_X3.model model, validation set scale: 4, PSNR: 25.938026219865655, SSIM: 0.7578590213403988\n"
     ]
    },
    {
     "name": "stderr",
     "output_type": "stream",
     "text": [
      "100%|████████████████████████████████████████████████████████████████████████████████| 250/250 [02:16<00:00,  1.83it/s]\n"
     ]
    },
    {
     "name": "stdout",
     "output_type": "stream",
     "text": [
      "start test: SRCNN_X3.model model, validation set scale: 5, PSNR: 24.64975121973537, SSIM: 0.71357619338587\n",
      "load model parameter\n",
      "use device:  cuda:0\n"
     ]
    },
    {
     "name": "stderr",
     "output_type": "stream",
     "text": [
      "100%|████████████████████████████████████████████████████████████████████████████████| 250/250 [02:19<00:00,  1.79it/s]\n"
     ]
    },
    {
     "name": "stdout",
     "output_type": "stream",
     "text": [
      "start test: SRCNN_X4.model model, validation set scale: 2, PSNR: 28.413295127315696, SSIM: 0.8217282228378349\n"
     ]
    },
    {
     "name": "stderr",
     "output_type": "stream",
     "text": [
      "100%|█████████████████████████████████████████████████████████████████████████████| 250/250 [9:19:00<00:00, 134.16s/it]\n"
     ]
    },
    {
     "name": "stdout",
     "output_type": "stream",
     "text": [
      "start test: SRCNN_X4.model model, validation set scale: 3, PSNR: 27.006977499858934, SSIM: 0.7842415907052646\n"
     ]
    },
    {
     "name": "stderr",
     "output_type": "stream",
     "text": [
      "100%|████████████████████████████████████████████████████████████████████████████████| 250/250 [02:10<00:00,  1.91it/s]\n"
     ]
    },
    {
     "name": "stdout",
     "output_type": "stream",
     "text": [
      "start test: SRCNN_X4.model model, validation set scale: 4, PSNR: 25.878885328413123, SSIM: 0.7491293055485209\n"
     ]
    },
    {
     "name": "stderr",
     "output_type": "stream",
     "text": [
      "100%|████████████████████████████████████████████████████████████████████████████████| 250/250 [02:09<00:00,  1.93it/s]\n"
     ]
    },
    {
     "name": "stdout",
     "output_type": "stream",
     "text": [
      "start test: SRCNN_X4.model model, validation set scale: 5, PSNR: 24.678980411306895, SSIM: 0.710641709337084\n",
      "load model parameter\n",
      "use device:  cuda:0\n"
     ]
    },
    {
     "name": "stderr",
     "output_type": "stream",
     "text": [
      "100%|████████████████████████████████████████████████████████████████████████████████| 250/250 [02:25<00:00,  1.72it/s]\n"
     ]
    },
    {
     "name": "stdout",
     "output_type": "stream",
     "text": [
      "start test: SRCNN_X5.model model, validation set scale: 2, PSNR: 27.07451490015635, SSIM: 0.7735019485307718\n"
     ]
    },
    {
     "name": "stderr",
     "output_type": "stream",
     "text": [
      "100%|████████████████████████████████████████████████████████████████████████████████| 250/250 [02:16<00:00,  1.84it/s]\n"
     ]
    },
    {
     "name": "stdout",
     "output_type": "stream",
     "text": [
      "start test: SRCNN_X5.model model, validation set scale: 3, PSNR: 26.364676763476446, SSIM: 0.7538444828616745\n"
     ]
    },
    {
     "name": "stderr",
     "output_type": "stream",
     "text": [
      "100%|████████████████████████████████████████████████████████████████████████████████| 250/250 [02:14<00:00,  1.85it/s]\n"
     ]
    },
    {
     "name": "stdout",
     "output_type": "stream",
     "text": [
      "start test: SRCNN_X5.model model, validation set scale: 4, PSNR: 25.635248545319925, SSIM: 0.7315539685470948\n"
     ]
    },
    {
     "name": "stderr",
     "output_type": "stream",
     "text": [
      "100%|████████████████████████████████████████████████████████████████████████████████| 250/250 [02:17<00:00,  1.82it/s]"
     ]
    },
    {
     "name": "stdout",
     "output_type": "stream",
     "text": [
      "start test: SRCNN_X5.model model, validation set scale: 5, PSNR: 24.66717191305021, SSIM: 0.7024253382029826\n"
     ]
    },
    {
     "name": "stderr",
     "output_type": "stream",
     "text": [
      "\n"
     ]
    }
   ],
   "source": [
    "for model_path in (\"SRCNN_X2.model\", \"SRCNN_X3.model\", \"SRCNN_X4.model\", \"SRCNN_X5.model\"):\n",
    "    model, device, current_epoch = get_SRCNN_model(os.path.join(base_path, model_path))\n",
    "    for factor in range(2,6):\n",
    "        data_set = \"SRCNN_X\" + str(factor)\n",
    "        test_PSNR_with_scale(model, model_path, valid_hr, factor, device)\n",
    "    torch.cuda.empty_cache()\n"
   ]
  },
  {
   "cell_type": "code",
   "execution_count": null,
   "id": "eb62bc53",
   "metadata": {},
   "outputs": [],
   "source": []
  }
 ],
 "metadata": {
  "kernelspec": {
   "display_name": "Python 3 (ipykernel)",
   "language": "python",
   "name": "python3"
  },
  "language_info": {
   "codemirror_mode": {
    "name": "ipython",
    "version": 3
   },
   "file_extension": ".py",
   "mimetype": "text/x-python",
   "name": "python",
   "nbconvert_exporter": "python",
   "pygments_lexer": "ipython3",
   "version": "3.10.6"
  }
 },
 "nbformat": 4,
 "nbformat_minor": 5
}
