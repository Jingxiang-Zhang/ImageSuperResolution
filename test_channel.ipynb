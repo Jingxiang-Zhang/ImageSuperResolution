{
 "cells": [
  {
   "cell_type": "markdown",
   "id": "531b09db",
   "metadata": {},
   "source": [
    "#### This module test how training channel influence the PSNR\n",
    "\n",
    "Use net structure: ESPCN\n",
    "Hyper parameters:\n",
    "- Learning rate decay: 0.9 for each iteration\n",
    "- start learning rate: 0.01\n",
    "- second part learning rate = learning rate * 0.1\n",
    "- criterion: MSELoss\n",
    "- optimizer: Adam\n",
    "- patch size = 64\n",
    "- batch size = 64"
   ]
  },
  {
   "cell_type": "code",
   "execution_count": 93,
   "id": "c1e5a28a",
   "metadata": {},
   "outputs": [],
   "source": [
    "import os\n",
    "import torch\n",
    "import data_loader\n",
    "from criteria import PSNR, SSIM, show_img_in_loader_and_comparison, test_psnr_ssim_interpolation\n",
    "from plot import show_img\n",
    "import numpy as np\n",
    "from ESPCN_model import ESPCN\n",
    "import ESPCN_model\n",
    "import matplotlib.pyplot as plt\n",
    "import cv2\n",
    "import torch.nn as nn\n",
    "from tqdm import tqdm\n",
    "import math"
   ]
  },
  {
   "cell_type": "code",
   "execution_count": 2,
   "id": "f77927a8",
   "metadata": {},
   "outputs": [],
   "source": [
    "base_path = r\"D:\\programming\\dataset\\DIV2K\"\n",
    "valid_hr = os.path.join(base_path, \"DIV2K_valid_HR\")\n",
    "valid_lr = os.path.join(base_path, \"DIV2K_valid_LR_bicubic_X2\")"
   ]
  },
  {
   "cell_type": "markdown",
   "id": "04669b7b",
   "metadata": {},
   "source": [
    "test PSNR for interpolation BGR channel"
   ]
  },
  {
   "cell_type": "code",
   "execution_count": 57,
   "id": "2c4218af",
   "metadata": {
    "scrolled": true
   },
   "outputs": [
    {
     "name": "stderr",
     "output_type": "stream",
     "text": [
      "100%|████████████████████████████████████████████████████████████████████████████████| 250/250 [04:56<00:00,  1.18s/it]"
     ]
    },
    {
     "name": "stdout",
     "output_type": "stream",
     "text": [
      "PSNR interpolation is: 31.261, SSIM interpolation is: 0.898\n"
     ]
    },
    {
     "name": "stderr",
     "output_type": "stream",
     "text": [
      "\n"
     ]
    }
   ],
   "source": [
    "\n",
    "def PSNR_interpolation():\n",
    "    h5_train_path = os.path.join(base_path, \"train_BGR_channel\")\n",
    "    train_dataloader, val_dataloader = data_loader.create_train_val_data_loader(\n",
    "        h5_train_path, valid_hr, valid_lr, batch_size=1)\n",
    "    psnr_list = list()\n",
    "    ssim_list = list()\n",
    "    with tqdm(total=250) as t:\n",
    "        for hr, lr in val_dataloader:\n",
    "            hr = (np.squeeze(hr.numpy()) * 255).astype(np.uint8)\n",
    "            hr = cv2.cvtColor(hr, cv2.COLOR_YCR_CB2BGR)\n",
    "            hr = hr.astype(np.float32)\n",
    "\n",
    "            lr = (np.squeeze(lr.numpy()) * 255).astype(np.uint8)\n",
    "            lr = cv2.cvtColor(lr, cv2.COLOR_YCR_CB2BGR)\n",
    "            lr = cv2.resize(lr, (hr.shape[1], hr.shape[0]), interpolation=cv2.INTER_CUBIC)\n",
    "            lr = lr.astype(np.float32)\n",
    "            \n",
    "            psnr = PSNR(hr, lr, 255)\n",
    "            psnr_list.append(psnr)\n",
    "            ssim = SSIM(hr, lr)\n",
    "            ssim_list.append(ssim)\n",
    "            t.update(1)\n",
    "\n",
    "    print(\"PSNR interpolation is: {:.3f}, SSIM interpolation is: {:.3f}\".\n",
    "          format(np.average(psnr_list), np.average(ssim_list)))\n",
    "    \n",
    "PSNR_interpolation()"
   ]
  },
  {
   "cell_type": "markdown",
   "id": "cc4dce6a",
   "metadata": {},
   "source": [
    "#### rewrite model"
   ]
  },
  {
   "cell_type": "code",
   "execution_count": 50,
   "id": "88e1944e",
   "metadata": {},
   "outputs": [],
   "source": [
    "def get_ESPCN_model(model_save_path=None, channel=1):\n",
    "    \"\"\"\n",
    "    load SRCNN model, if no model_save_path, then init a new model\n",
    "    \"\"\"\n",
    "    model = ESPCN(2, channel)\n",
    "    if (model_save_path == None) or (not os.path.exists(model_save_path)):\n",
    "        print(\"init new model parameter\")\n",
    "        model.init_weights()\n",
    "        current_epoch = 0\n",
    "        PSNR_list = list()\n",
    "    else:\n",
    "        para = torch.load(model_save_path)\n",
    "        model.load_state_dict(para[\"state_dict\"])\n",
    "        current_epoch = para[\"epoch\"]\n",
    "        PSNR_list = para[\"psnr\"]\n",
    "        print(\"load model parameter\")\n",
    "    device = torch.device(\"cuda:0\" if torch.cuda.is_available() else \"cpu\")\n",
    "    model.to(device)\n",
    "    print(\"use device: \", device)\n",
    "    return model, device, current_epoch, PSNR_list\n",
    "\n",
    "\n",
    "def test_psnr_ssim(model, device, val_dataloader):\n",
    "    \"\"\"\n",
    "    test PSNR and SSIM for each epoch\n",
    "    \"\"\"\n",
    "    psnr_list = list()\n",
    "    for hr, lr in val_dataloader:\n",
    "        hr = (np.squeeze(hr.numpy()) * 255).astype(np.uint8)\n",
    "        hr = cv2.cvtColor(hr, cv2.COLOR_YCR_CB2BGR)\n",
    "        hr = hr.astype(np.float32)\n",
    "        \n",
    "        lr = (np.squeeze(lr.numpy()) * 255).astype(np.uint8)\n",
    "        lr = cv2.cvtColor(lr, cv2.COLOR_YCR_CB2BGR)\n",
    "        lr = lr.astype(np.float32)\n",
    "        lr = lr / 255\n",
    "        lr = np.transpose(lr, [2,0,1])\n",
    "        lr = np.expand_dims(lr, 0)\n",
    "        \n",
    "        lr = torch.tensor(lr)\n",
    "        lr = lr.to(device)\n",
    "        lr = model(lr)\n",
    "        lr = lr.cpu().data.numpy()  # get the model result\n",
    "        \n",
    "        lr[lr > 1] = 1  # cut Y channel, 16<=Y<=235\n",
    "        lr[lr < 0] = 0\n",
    "        lr = np.squeeze(lr)\n",
    "        lr = np.transpose(lr, [1,2,0])\n",
    "        lr = lr * 255\n",
    "        psnr = PSNR(lr, hr, 255)  # test the result for RSCNN\n",
    "        psnr_list.append(psnr)\n",
    "    return np.average(psnr_list)\n",
    "\n",
    "\n",
    "def ESPCN_train(model, device, train_dataloader, val_dataloader,\n",
    "                current_epoch, PSNR_list, model_save_path,\n",
    "                max_epoch=10):\n",
    "    lr_begin = 0.01\n",
    "    criterion = nn.MSELoss()\n",
    "\n",
    "    with tqdm(total=len(train_dataloader) * max_epoch) as t:\n",
    "        t.update(len(train_dataloader) * current_epoch)  # update to current state\n",
    "        while current_epoch < max_epoch:\n",
    "            lr = math.pow(0.90, current_epoch) * lr_begin\n",
    "            optimizer = torch.optim.Adam([\n",
    "                {'params': model.first_part.parameters()},\n",
    "                {'params': model.last_part.parameters(), 'lr': lr * 0.1}\n",
    "            ], lr=lr)\n",
    "\n",
    "            for hr, lr in train_dataloader:\n",
    "                hr, lr = hr.to(device), lr.to(device)\n",
    "                lr_after = model(lr)\n",
    "                loss = criterion(lr_after, hr)\n",
    "                optimizer.zero_grad()\n",
    "                loss.backward()\n",
    "                optimizer.step()\n",
    "                t.update(1)\n",
    "            # test result\n",
    "            current_epoch += 1\n",
    "            psnr = test_psnr_ssim(model, device, val_dataloader)\n",
    "            PSNR_list.append(psnr)\n",
    "            torch.save({\"epoch\": current_epoch, \"state_dict\": model.state_dict(),\n",
    "                        \"psnr\": PSNR_list}, model_save_path)"
   ]
  },
  {
   "cell_type": "markdown",
   "id": "e6de32be",
   "metadata": {},
   "source": [
    "#### train BGR channel together"
   ]
  },
  {
   "cell_type": "code",
   "execution_count": 63,
   "id": "75ef7a22",
   "metadata": {},
   "outputs": [
    {
     "name": "stdout",
     "output_type": "stream",
     "text": [
      "init new model parameter\n",
      "use device:  cuda:0\n"
     ]
    },
    {
     "name": "stderr",
     "output_type": "stream",
     "text": [
      "100%|████████████████████████████████████████████████████████████████████████████| 7580/7580 [1:05:50<00:00,  1.92it/s]\n"
     ]
    }
   ],
   "source": [
    "def train_BGR(h5_train_path, model_save_path, batch_size):\n",
    "    h5_train_path = os.path.join(base_path, h5_train_path)\n",
    "    model_save_path = os.path.join(base_path, model_save_path)\n",
    "\n",
    "    train_dataloader, val_dataloader = data_loader.create_train_val_data_loader(\n",
    "        h5_train_path, valid_hr, valid_lr, batch_size=batch_size)\n",
    "    model, device, current_epoch, PSNR_list = \\\n",
    "        get_ESPCN_model(model_save_path=model_save_path, channel=3)\n",
    "\n",
    "    ESPCN_train(model, device, train_dataloader, val_dataloader,\n",
    "                   current_epoch, PSNR_list, model_save_path,\n",
    "                   max_epoch=20)\n",
    "    \n",
    "train_BGR(\"train_BGR_channel\", \"ESPCN_BGR_channel.model\", 256)\n",
    "torch.cuda.empty_cache()"
   ]
  },
  {
   "cell_type": "code",
   "execution_count": 66,
   "id": "e9f3d005",
   "metadata": {},
   "outputs": [
    {
     "name": "stdout",
     "output_type": "stream",
     "text": [
      "load model parameter\n",
      "use device:  cuda:0\n"
     ]
    }
   ],
   "source": [
    "def get_BGR_learning_curve():\n",
    "    model_save_path = os.path.join(base_path, \"ESPCN_BGR_channel.model\")\n",
    "    model, device, current_epoch, PSNR_list = \\\n",
    "            get_ESPCN_model(model_save_path=model_save_path, channel=3)\n",
    "    return PSNR_list\n",
    "\n",
    "BGR_PSNR = get_BGR_learning_curve()"
   ]
  },
  {
   "cell_type": "markdown",
   "id": "c2120432",
   "metadata": {},
   "source": [
    "#### train R, G, B channel separatly"
   ]
  },
  {
   "cell_type": "markdown",
   "id": "c0fe118c",
   "metadata": {},
   "source": [
    "#### redefine data loader"
   ]
  },
  {
   "cell_type": "code",
   "execution_count": 95,
   "id": "c2ea846c",
   "metadata": {},
   "outputs": [],
   "source": [
    "from torch.utils.data import Dataset, DataLoader\n",
    "import h5py\n",
    "\n",
    "class RSCNNTrainDataset(Dataset):\n",
    "    def __init__(self, h5_train_path, channel):\n",
    "        super(RSCNNTrainDataset, self).__init__()\n",
    "        self.index = list()\n",
    "        self.h5_train_path = h5_train_path\n",
    "        self.channel = channel\n",
    "        with open(os.path.join(h5_train_path, \"index.txt\")) as index_file:\n",
    "            lines = index_file.readlines()\n",
    "            for line in lines:\n",
    "                self.index.append(int(line.strip()))\n",
    "\n",
    "    def __getitem__(self, idx):\n",
    "        for i in range(len(self.index)):\n",
    "            if idx < self.index[i]:\n",
    "                path = os.path.join(self.h5_train_path, str(i) + \".hdf5\")\n",
    "                with h5py.File(path, 'r') as f:\n",
    "                    hr = f['hr'][idx]\n",
    "                    lr = f['lr'][idx]\n",
    "                    hr = hr[self.channel]\n",
    "                    lr = lr[self.channel]\n",
    "                    hr = np.expand_dims(hr, 0)\n",
    "                    lr = np.expand_dims(lr, 0)\n",
    "                    return hr, lr\n",
    "            else:\n",
    "                idx -= self.index[i]\n",
    "\n",
    "    def __len__(self):\n",
    "        return np.sum(self.index)\n",
    "    \n",
    "def create_channel_train_val_data_loader(h5_train_path, valid_hr, valid_lr, channel, batch_size=1):\n",
    "    train_dataset = RSCNNTrainDataset(h5_train_path, channel)\n",
    "    ValDataset_ = data_loader.ValDataset(0, valid_hr, valid_lr)\n",
    "    train_dataloader = DataLoader(dataset=train_dataset,\n",
    "                                  batch_size=batch_size,\n",
    "                                  shuffle=True,\n",
    "                                  drop_last=True)\n",
    "    val_dataloader = DataLoader(dataset=ValDataset_,\n",
    "                                batch_size=1)\n",
    "    return train_dataloader, val_dataloader\n"
   ]
  },
  {
   "cell_type": "markdown",
   "id": "1ca4dc41",
   "metadata": {},
   "source": [
    "#### rewrite train model"
   ]
  },
  {
   "cell_type": "code",
   "execution_count": 118,
   "id": "0e4ac21e",
   "metadata": {},
   "outputs": [],
   "source": [
    "def test_psnr_ssim(model, device, val_dataloader, test_channel):\n",
    "    \"\"\"\n",
    "    test PSNR and SSIM for each epoch\n",
    "    \"\"\"\n",
    "    psnr_list = list()\n",
    "    for hr, lr in val_dataloader:\n",
    "        hr = (np.squeeze(hr.numpy()) * 255).astype(np.uint8)\n",
    "        hr = cv2.cvtColor(hr, cv2.COLOR_YCR_CB2BGR)\n",
    "        hr = hr.astype(np.float32)\n",
    "        hr = hr[:,:,test_channel]\n",
    "        \n",
    "        lr = (np.squeeze(lr.numpy()) * 255).astype(np.uint8)\n",
    "        lr = cv2.cvtColor(lr, cv2.COLOR_YCR_CB2BGR)\n",
    "        lr = lr[:,:,test_channel]\n",
    "        lr = lr.astype(np.float32)\n",
    "        lr = lr / 255\n",
    "        lr = np.expand_dims(lr, [0,1])\n",
    "\n",
    "        lr = torch.tensor(lr)\n",
    "        lr = lr.to(device)\n",
    "        lr = model(lr)\n",
    "        lr = lr.cpu().data.numpy()  # get the model result\n",
    "        \n",
    "        lr[lr > 1] = 1  \n",
    "        lr[lr < 0] = 0\n",
    "        lr = np.squeeze(lr)\n",
    "        lr = lr * 255\n",
    "        psnr = PSNR(lr, hr, 255)  # test the result for RSCNN\n",
    "        psnr_list.append(psnr)\n",
    "    return np.average(psnr_list)\n",
    "\n",
    "\n",
    "def ESPCN_train(model, device, train_dataloader, val_dataloader,\n",
    "                current_epoch, PSNR_list, model_save_path, test_channel,\n",
    "                max_epoch=10):\n",
    "    lr_begin = 0.01\n",
    "    criterion = nn.MSELoss()\n",
    "\n",
    "    with tqdm(total=len(train_dataloader) * max_epoch) as t:\n",
    "        t.update(len(train_dataloader) * current_epoch)  # update to current state\n",
    "        while current_epoch < max_epoch:\n",
    "            lr = math.pow(0.90, current_epoch) * lr_begin\n",
    "            optimizer = torch.optim.Adam([\n",
    "                {'params': model.first_part.parameters()},\n",
    "                {'params': model.last_part.parameters(), 'lr': lr * 0.1}\n",
    "            ], lr=lr)\n",
    "\n",
    "            for hr, lr in train_dataloader:\n",
    "                hr, lr = hr.to(device), lr.to(device)\n",
    "                lr_after = model(lr)\n",
    "                loss = criterion(lr_after, hr)\n",
    "                optimizer.zero_grad()\n",
    "                loss.backward()\n",
    "                optimizer.step()\n",
    "                t.update(1)\n",
    "            # test result\n",
    "            current_epoch += 1\n",
    "            psnr = test_psnr_ssim(model, device, val_dataloader, test_channel)\n",
    "            PSNR_list.append(psnr)\n",
    "            torch.save({\"epoch\": current_epoch, \"state_dict\": model.state_dict(),\n",
    "                        \"psnr\": PSNR_list}, model_save_path)"
   ]
  },
  {
   "cell_type": "markdown",
   "id": "53c5a2b3",
   "metadata": {},
   "source": [
    "#### train BGR separatly"
   ]
  },
  {
   "cell_type": "code",
   "execution_count": 121,
   "id": "2ca6b6ad",
   "metadata": {
    "scrolled": false
   },
   "outputs": [
    {
     "name": "stdout",
     "output_type": "stream",
     "text": [
      "load model parameter\n",
      "use device:  cuda:0\n"
     ]
    },
    {
     "name": "stderr",
     "output_type": "stream",
     "text": [
      "100%|██████████████████████████████████████████████████████████████████████████████| 7580/7580 [56:15<00:00,  2.25it/s]\n"
     ]
    },
    {
     "name": "stdout",
     "output_type": "stream",
     "text": [
      "init new model parameter\n",
      "use device:  cuda:0\n"
     ]
    },
    {
     "name": "stderr",
     "output_type": "stream",
     "text": [
      "100%|████████████████████████████████████████████████████████████████████████████| 7580/7580 [1:01:42<00:00,  2.05it/s]\n"
     ]
    },
    {
     "name": "stdout",
     "output_type": "stream",
     "text": [
      "init new model parameter\n",
      "use device:  cuda:0\n"
     ]
    },
    {
     "name": "stderr",
     "output_type": "stream",
     "text": [
      "100%|████████████████████████████████████████████████████████████████████████████| 7580/7580 [1:05:48<00:00,  1.92it/s]\n"
     ]
    }
   ],
   "source": [
    "def train_channel(h5_train_path, model_save_path, batch_size, channel):\n",
    "    h5_train_path = os.path.join(base_path, h5_train_path)\n",
    "    model_save_path = os.path.join(base_path, model_save_path)\n",
    "\n",
    "    train_dataloader, val_dataloader = create_channel_train_val_data_loader(\n",
    "        h5_train_path, valid_hr, valid_lr, channel=channel, batch_size=batch_size)\n",
    "    model, device, current_epoch, PSNR_list = \\\n",
    "        get_ESPCN_model(model_save_path=model_save_path)\n",
    "\n",
    "    ESPCN_train(model, device, train_dataloader, val_dataloader,\n",
    "                   current_epoch, PSNR_list, model_save_path, channel,\n",
    "                   max_epoch=20)\n",
    "    \n",
    "train_channel(\"train_BGR_channel\", \"ESPCN_B_channel.model\", 256, 0)\n",
    "torch.cuda.empty_cache()\n",
    "train_channel(\"train_BGR_channel\", \"ESPCN_G_channel.model\", 256, 1)\n",
    "torch.cuda.empty_cache()\n",
    "train_channel(\"train_BGR_channel\", \"ESPCN_R_channel.model\", 256, 2)\n",
    "torch.cuda.empty_cache()"
   ]
  },
  {
   "cell_type": "code",
   "execution_count": 131,
   "id": "147e94ae",
   "metadata": {},
   "outputs": [
    {
     "name": "stdout",
     "output_type": "stream",
     "text": [
      "load model parameter\n",
      "use device:  cuda:0\n",
      "load model parameter\n",
      "use device:  cuda:0\n",
      "load model parameter\n",
      "use device:  cuda:0\n"
     ]
    }
   ],
   "source": [
    "def get_B_G_R_learning_curve():\n",
    "    model_name = {\n",
    "        \"B_channel\":\"ESPCN_B_channel.model\",\n",
    "        \"G_channel\":\"ESPCN_G_channel.model\",\n",
    "        \"R_channel\":\"ESPCN_R_channel.model\",\n",
    "    }\n",
    "    PSNR_result = dict()\n",
    "    for channel, model_path in model_name.items():\n",
    "        model, device, current_epoch, PSNR_list = \\\n",
    "            get_ESPCN_model(model_save_path=os.path.join(base_path, model_path))\n",
    "        PSNR_result[channel] = PSNR_list\n",
    "    return PSNR_result\n",
    "\n",
    "B_G_R_PSNR = get_B_G_R_learning_curve()"
   ]
  },
  {
   "cell_type": "markdown",
   "id": "afda24df",
   "metadata": {},
   "source": [
    "#### make comparison"
   ]
  },
  {
   "cell_type": "code",
   "execution_count": 140,
   "id": "4d2d6b8a",
   "metadata": {
    "scrolled": true
   },
   "outputs": [
    {
     "data": {
      "image/png": "[encoded data removed]",
      "text/plain": [
       "<Figure size 720x576 with 1 Axes>"
      ]
     },
     "metadata": {
      "needs_background": "light"
     },
     "output_type": "display_data"
    }
   ],
   "source": [
    "def plot(BGR_PSNR, B_G_R_PSNR):\n",
    "    plt.figure(figsize=(10,8))\n",
    "    plt.xticks(np.linspace(1,20,20))\n",
    "    plt.yticks(np.linspace(25,35,11))\n",
    "    plt.plot(range(1,21), np.ones(shape=(20,))*31.261, ':', label=\"BICUBIC\")\n",
    "    \n",
    "    average_bgr = np.zeros(shape=(20,))\n",
    "    plt.plot(range(1,21), BGR_PSNR, label=\"BGR_channel\")\n",
    "    for model_name, psnr in B_G_R_PSNR.items():\n",
    "        # plt.plot(range(1,21), psnr, label=model_name)\n",
    "        average_bgr += np.asarray(psnr)\n",
    "    average_bgr /= 3\n",
    "    plt.plot(range(1,21), average_bgr, label=\"BGR_Ave\")\n",
    "    plt.legend()\n",
    "    plt.show()\n",
    "        \n",
    "plot(BGR_PSNR, B_G_R_PSNR)"
   ]
  },
  {
   "cell_type": "markdown",
   "id": "2d3e3ef0",
   "metadata": {},
   "source": [
    "#### test train on Y channel and use it to calculate PSNR in Y and BGR channel"
   ]
  },
  {
   "cell_type": "code",
   "execution_count": 223,
   "id": "85e4f6f7",
   "metadata": {},
   "outputs": [
    {
     "name": "stdout",
     "output_type": "stream",
     "text": [
      "load model parameter\n",
      "use device:  cuda:0\n"
     ]
    },
    {
     "name": "stderr",
     "output_type": "stream",
     "text": [
      "100%|██████████████████████████████████████████████████████████████████████████████| 7580/7580 [35:07<00:00,  3.60it/s]\n"
     ]
    }
   ],
   "source": [
    "def test_psnr_ssim(model, device, val_dataloader):\n",
    "    \"\"\"\n",
    "    test PSNR and SSIM for each epoch\n",
    "    \"\"\"\n",
    "    Y_psnr_list = list()\n",
    "    BGR_psnr_list = list()\n",
    "    for hr, lr in val_dataloader:\n",
    "        # get the hr image, and hr_y channel\n",
    "        hr = hr.numpy() * 255  # read hr from data loader\n",
    "        hr = np.reshape(hr, (hr.shape[1], hr.shape[2], hr.shape[3]))  # change shape to a image\n",
    "        hr_y = hr[:, :, 0]  # get Y channel of hr\n",
    "        hr = np.array(hr).astype(np.uint8)  # change to uint8\n",
    "        hr = cv2.cvtColor(hr, cv2.COLOR_YCR_CB2BGR)  # change back to BGR\n",
    "\n",
    "        # change lr to numpy at first, and interpolation to get the high resolution CbCr\n",
    "        lr_np = lr.numpy() * 255  # read lr from data loader\n",
    "        lr_np = np.squeeze(lr_np)  # change shape to a image\n",
    "        lr_np = lr_np.astype(np.uint8)  # change to uint8\n",
    "        lr_np = cv2.cvtColor(lr_np, cv2.COLOR_YCR_CB2BGR)  # convert to RGB first\n",
    "        lr_np = cv2.resize(lr_np, (hr.shape[1], hr.shape[0]), interpolation=cv2.INTER_CUBIC)  # interpolation\n",
    "        lr_img = lr_np\n",
    "        lr_np = cv2.cvtColor(lr_np, cv2.COLOR_BGR2YCR_CB)  # convert to YCbCr again\n",
    "        lr_y = lr_np[:, :, 0]\n",
    "        lr_Cr = lr_np[:, :, 1]\n",
    "        lr_Cr = np.expand_dims(lr_Cr, axis=(0))\n",
    "        lr_Cb = lr_np[:, :, 2]\n",
    "        lr_Cb = np.expand_dims(lr_Cb, axis=(0))\n",
    "\n",
    "        # Y channel will be got from model\n",
    "        lr_y_after = lr[:, :, :, 0]  # get Y channel\n",
    "        lr_y_after = torch.reshape(lr_y_after, (1, 1, lr.shape[1], lr.shape[2]))\n",
    "        lr_y_after = lr_y_after.to(device)  # put into model\n",
    "        lr_y_after = model(lr_y_after)\n",
    "        lr_y_after = lr_y_after.cpu().data.numpy()  # get the model result\n",
    "        lr_y_after = np.reshape(lr_y_after, newshape=(1, lr_y_after.shape[2], lr_y_after.shape[3]))\n",
    "        lr_y_after[lr_y_after > 1] = 1  # cut Y channel, 16<=Y<=235\n",
    "        lr_y_after[lr_y_after < 0] = 0\n",
    "        lr_y_after = lr_y_after * 255\n",
    "\n",
    "        # combine together\n",
    "        lr_after = np.concatenate([lr_y_after, lr_Cr, lr_Cb], axis=0)  # conbine the three channel together\n",
    "        lr_after = np.transpose(lr_after, (1, 2, 0))  # to normal range\n",
    "        lr_after = lr_after.astype(np.uint8)  # convert to uint8 type\n",
    "        lr_after = cv2.cvtColor(lr_after, cv2.COLOR_YCR_CB2BGR)  # change back to BGR\n",
    "\n",
    "        # demonstrate\n",
    "        lr_y_after = np.squeeze(lr_y_after)\n",
    "\n",
    "        hr = hr.astype(np.float32)\n",
    "        lr_after = lr_after.astype(np.float32)\n",
    "        \n",
    "        Y_psnr = PSNR(hr_y, lr_y_after, 255)  # test the Y channel result for ESPCN\n",
    "        BGR_psnr = PSNR(hr, lr_after, 255) # test the BGR channel result for ESPCN\n",
    "        Y_psnr_list.append(Y_psnr)\n",
    "        BGR_psnr_list.append(BGR_psnr)\n",
    "                \n",
    "    return np.average(Y_psnr_list), np.average(BGR_psnr_list)\n",
    "\n",
    "\n",
    "def ESPCN_train(model, device, train_dataloader, val_dataloader,\n",
    "                current_epoch, Y_PSNR_list, BGR_PSNR_list, model_save_path,\n",
    "                max_epoch=10):\n",
    "    lr_begin = 0.01\n",
    "    criterion = nn.MSELoss()\n",
    "\n",
    "    with tqdm(total=len(train_dataloader) * max_epoch) as t:\n",
    "        t.update(len(train_dataloader) * current_epoch)  # update to current state\n",
    "        while current_epoch < max_epoch:\n",
    "            lr = math.pow(0.90, current_epoch) * lr_begin\n",
    "            optimizer = torch.optim.Adam([\n",
    "                {'params': model.first_part.parameters()},\n",
    "                {'params': model.last_part.parameters(), 'lr': lr * 0.1}\n",
    "            ], lr=lr)\n",
    "\n",
    "            for hr, lr in train_dataloader:\n",
    "                hr, lr = hr.to(device), lr.to(device)\n",
    "                lr_after = model(lr)\n",
    "                loss = criterion(lr_after, hr)\n",
    "                optimizer.zero_grad()\n",
    "                loss.backward()\n",
    "                optimizer.step()\n",
    "                t.update(1)\n",
    "            # test result\n",
    "            current_epoch += 1\n",
    "            Y_psnr, BGR_psnr = test_psnr_ssim(model, device, val_dataloader)\n",
    "            Y_PSNR_list.append(Y_psnr)\n",
    "            BGR_PSNR_list.append(BGR_psnr)\n",
    "            torch.save({\"epoch\": current_epoch, \"state_dict\": model.state_dict(),\n",
    "                        \"Y_psnr\": Y_PSNR_list, \"BGR_psnr\": BGR_PSNR_list}, model_save_path)\n",
    "\n",
    "\n",
    "def get_ESPCN_model(model_save_path=None, channel=1):\n",
    "    \"\"\"\n",
    "    load SRCNN model, if no model_save_path, then init a new model\n",
    "    \"\"\"\n",
    "    model = ESPCN(2, channel)\n",
    "    if (model_save_path == None) or (not os.path.exists(model_save_path)):\n",
    "        print(\"init new model parameter\")\n",
    "        model.init_weights()\n",
    "        current_epoch = 0\n",
    "        Y_PSNR_list = list()\n",
    "        BGR_PSNR_list = list()\n",
    "    else:\n",
    "        para = torch.load(model_save_path)\n",
    "        model.load_state_dict(para[\"state_dict\"])\n",
    "        current_epoch = para[\"epoch\"]\n",
    "        Y_PSNR_list = para[\"Y_psnr\"]\n",
    "        BGR_PSNR_list = para[\"BGR_psnr\"]\n",
    "        print(\"load model parameter\")\n",
    "    device = torch.device(\"cuda:0\" if torch.cuda.is_available() else \"cpu\")\n",
    "    model.to(device)\n",
    "    print(\"use device: \", device)\n",
    "    return model, device, current_epoch, Y_PSNR_list, BGR_PSNR_list\n",
    "\n",
    "\n",
    "def script(h5_train_path, model_save_path, batch_size):\n",
    "    h5_train_path = os.path.join(base_path, h5_train_path)\n",
    "    model_save_path = os.path.join(base_path, model_save_path)\n",
    "\n",
    "    train_dataloader, val_dataloader = data_loader.create_train_val_data_loader(\n",
    "        h5_train_path, valid_hr, valid_lr, batch_size=batch_size)\n",
    "    model, device, current_epoch, Y_PSNR_list, BGR_PSNR_list = \\\n",
    "            get_ESPCN_model(model_save_path=model_save_path)\n",
    "\n",
    "    ESPCN_train(model, device, train_dataloader, val_dataloader,\n",
    "                   current_epoch, Y_PSNR_list, BGR_PSNR_list, model_save_path,\n",
    "                   max_epoch=20)\n",
    "    \n",
    "script(\"train_Ychannel_size_64_128\", \"ESPCN_patch64_128_Ychannel_compare_BGR.model\", 256)\n",
    "torch.cuda.empty_cache()"
   ]
  },
  {
   "cell_type": "code",
   "execution_count": 225,
   "id": "b03df3ae",
   "metadata": {},
   "outputs": [
    {
     "name": "stdout",
     "output_type": "stream",
     "text": [
      "load model parameter\n",
      "use device:  cuda:0\n"
     ]
    }
   ],
   "source": [
    "model, device, current_epoch, Y_PSNR_list, BGR_PSNR_list = \\\n",
    "            get_ESPCN_model(model_save_path=os.path.join(base_path, \"ESPCN_patch64_128_Ychannel_compare_BGR.model\"))"
   ]
  },
  {
   "cell_type": "markdown",
   "id": "543bf16a",
   "metadata": {},
   "source": [
    "#### final comparison"
   ]
  },
  {
   "cell_type": "code",
   "execution_count": 229,
   "id": "f74f674e",
   "metadata": {},
   "outputs": [
    {
     "data": {
      "image/png": "[encoded data removed]",
      "text/plain": [
       "<Figure size 720x576 with 1 Axes>"
      ]
     },
     "metadata": {
      "needs_background": "light"
     },
     "output_type": "display_data"
    }
   ],
   "source": [
    "def plot_all(train_BGR_PSNR, train_B_G_R_PSNR, train_Y_PSNR, train_Y_BGR_PSNR_list):\n",
    "    plt.figure(figsize=(10,8))\n",
    "    plt.xticks(np.linspace(1,20,20))\n",
    "    plt.yticks(np.linspace(25,35,11))\n",
    "    plt.title(\"Compare Training Channels\")\n",
    "    plt.ylabel(\"Average test PSNR(dB)\")\n",
    "    plt.xlabel(\"Number of epochs\")\n",
    "    plt.plot(range(1,21), np.ones(shape=(20,))*31.261, ':', label=\"BICUBIC\")\n",
    "    \n",
    "    average_bgr = np.zeros(shape=(20,))\n",
    "    plt.plot(range(1,21), BGR_PSNR, label=\"BGR_channel\")\n",
    "    for model_name, psnr in B_G_R_PSNR.items():\n",
    "        # plt.plot(range(1,21), psnr, label=model_name)\n",
    "        average_bgr += np.asarray(psnr)\n",
    "    average_bgr /= 3\n",
    "    plt.plot(range(1,21), average_bgr, label=\"B_G_R_Ave\")\n",
    "    plt.plot(range(1,21), train_Y_PSNR, label=\"Y_channel\")\n",
    "    plt.plot(range(1,21), train_Y_BGR_PSNR_list, label=\"Y_channel_BGR\")\n",
    "    plt.legend()\n",
    "    plt.show()\n",
    "        \n",
    "plot_all(BGR_PSNR, B_G_R_PSNR, Y_PSNR_list, BGR_PSNR_list)"
   ]
  },
  {
   "cell_type": "markdown",
   "id": "3f5c7e17",
   "metadata": {},
   "source": [
    "#### test on a image\n",
    "\n",
    "- original\n",
    "- interpolation\n",
    "- BGR channel model\n",
    "- B_G_R channel model\n",
    "- Y channel model "
   ]
  },
  {
   "cell_type": "code",
   "execution_count": 334,
   "id": "37201c29",
   "metadata": {},
   "outputs": [],
   "source": [
    "def Y_channel(base_path, HR_path, LR_path, Y_model_path):\n",
    "    model = ESPCN_model.ESPCN(2)\n",
    "    para = torch.load(Y_model_path)\n",
    "    model.load_state_dict(para[\"state_dict\"])\n",
    "    model.to(device)\n",
    "    \n",
    "    hr = cv2.imread(HR_path)\n",
    "    hr = hr.astype(np.float32)\n",
    "    \n",
    "    lr = cv2.imread(LR_path)\n",
    "    lr_np = cv2.resize(lr, (hr.shape[1], hr.shape[0]), interpolation=cv2.INTER_CUBIC)  # interpolation\n",
    "    lr_np = cv2.cvtColor(lr_np, cv2.COLOR_BGR2YCR_CB)  # convert to YCbCr\n",
    "    lr_Cr = lr_np[:, :, 1]\n",
    "    lr_Cr = np.expand_dims(lr_Cr, axis=(0))\n",
    "    lr_Cb = lr_np[:, :, 2]\n",
    "    lr_Cb = np.expand_dims(lr_Cb, axis=(0))\n",
    "    # change lr to numpy at first, and interpolation to get the high resolution CbCr\n",
    "    \n",
    "    lr = cv2.cvtColor(lr, cv2.COLOR_BGR2YCR_CB)  # convert to YCbCr again\n",
    "    lr_y = lr[:, :, 0].astype(np.float32) / 255\n",
    "    lr_y = np.expand_dims(lr_y, [0,1])\n",
    "    \n",
    "    lr_y = torch.tensor(lr_y)\n",
    "    lr_y = lr_y.to(device)  # put into model\n",
    "    lr_y = model(lr_y)\n",
    "    lr_y = lr_y.cpu().data.numpy()  # get the model result\n",
    "\n",
    "    lr_y = np.reshape(lr_y, newshape=(1, lr_y.shape[2], lr_y.shape[3]))\n",
    "    lr_y[lr_y > 1] = 1  # cut Y channel, 16<=Y<=235\n",
    "    lr_y[lr_y < 0] = 0\n",
    "    lr_y = lr_y * 255\n",
    "    lr_y = lr_y.astype(np.uint8)\n",
    "\n",
    "    # combine together\n",
    "    lr = np.concatenate([lr_y, lr_Cr, lr_Cb], axis=0)  # conbine the three channel together\n",
    "    lr = np.transpose(lr, (1, 2, 0))  # to normal range\n",
    "    lr = lr.astype(np.uint8)  # convert to uint8 type\n",
    "    lr = cv2.cvtColor(lr, cv2.COLOR_YCR_CB2BGR)  # change back to BGR\n",
    "    \n",
    "    cv2.imwrite(os.path.join(base_path, \"Y_channel.png\"), lr)\n",
    "    lr = lr.astype(np.float32)\n",
    "    print(\"PSNR for Y channel: {:.3f}\".format(PSNR(hr, lr, 255)))\n",
    "    torch.cuda.empty_cache()\n",
    "    \n",
    "\n",
    "def BGR_channel(base_path, HR_path, LR_path, BGR_model_path):\n",
    "    model = ESPCN_model.ESPCN(2, num_channels=3)\n",
    "    para = torch.load(BGR_model_path)\n",
    "    model.load_state_dict(para[\"state_dict\"])\n",
    "    model.to(device)\n",
    "    \n",
    "    hr = cv2.imread(HR_path)\n",
    "    hr = hr.astype(np.float32)\n",
    "    \n",
    "    lr = cv2.imread(LR_path)\n",
    "    lr = lr.astype(np.float32) / 255\n",
    "    lr = np.transpose(lr, [2,0,1])\n",
    "    lr = np.expand_dims(lr,0)\n",
    "    lr = torch.tensor(lr)\n",
    "    lr = lr.to(device)\n",
    "    lr = model(lr)\n",
    "    lr = lr.cpu().data.numpy()  # get the model result\n",
    "    lr[lr > 1] = 1\n",
    "    lr[lr < 0] = 0\n",
    "    lr = np.squeeze(lr)\n",
    "    lr = np.transpose(lr, [1,2,0])\n",
    "    lr = lr * 255\n",
    "    lr = lr.astype(np.uint8)\n",
    "    cv2.imwrite(os.path.join(base_path, \"BGR_channel.png\"), lr)\n",
    "    lr = lr.astype(np.float32)\n",
    "    print(\"PSNR for BGR channel: {:.3f}\".format(PSNR(hr, lr, 255)))\n",
    "    torch.cuda.empty_cache()\n",
    "    \n",
    "    \n",
    "def B_G_R_channel(base_path, HR_path, LR_path, B_model_path, G_model_path, R_model_path):\n",
    "    hr = cv2.imread(HR_path)\n",
    "    hr = hr.astype(np.float32)\n",
    "    lr = cv2.imread(LR_path)\n",
    "    lr = lr.astype(np.float32) / 255\n",
    "    lr_B = np.expand_dims(lr[:, :, 0], [0,1])\n",
    "    lr_B = torch.tensor(lr_B)\n",
    "    lr_G = np.expand_dims(lr[:, :, 1], [0,1])\n",
    "    lr_G = torch.tensor(lr_G)\n",
    "    lr_R = np.expand_dims(lr[:, :, 2], [0,1])\n",
    "    lr_R = torch.tensor(lr_R)\n",
    "    \n",
    "    # B channel\n",
    "    model_B = ESPCN_model.ESPCN(2)\n",
    "    para = torch.load(B_model_path)\n",
    "    model_B.load_state_dict(para[\"state_dict\"])\n",
    "    model_B.to(device)\n",
    "    \n",
    "    lr_B = lr_B.to(device)\n",
    "    lr_B = model_B(lr_B)\n",
    "    lr_B = lr_B.cpu().data.numpy()  # get the model result\n",
    "    lr_B[lr_B > 1] = 1\n",
    "    lr_B[lr_B < 0] = 0\n",
    "    lr_B = lr_B * 255\n",
    "    lr_B = np.reshape(lr_B, newshape=(1, lr_B.shape[2], lr_B.shape[3]))\n",
    "    torch.cuda.empty_cache()\n",
    "    \n",
    "    # G channel\n",
    "    model_G = ESPCN_model.ESPCN(2)\n",
    "    para = torch.load(G_model_path)\n",
    "    model_G.load_state_dict(para[\"state_dict\"])\n",
    "    model_G.to(device)\n",
    "    \n",
    "    lr_G = lr_G.to(device)\n",
    "    lr_G = model_G(lr_G)\n",
    "    lr_G = lr_G.cpu().data.numpy()  # get the model result\n",
    "    lr_G[lr_G > 1] = 1\n",
    "    lr_G[lr_G < 0] = 0\n",
    "    lr_G = lr_G * 255\n",
    "    lr_G = np.reshape(lr_G, newshape=(1, lr_G.shape[2], lr_G.shape[3]))\n",
    "    torch.cuda.empty_cache()\n",
    "    \n",
    "    # R channel\n",
    "    model_R = ESPCN_model.ESPCN(2)\n",
    "    para = torch.load(R_model_path)\n",
    "    model_R.load_state_dict(para[\"state_dict\"])\n",
    "    model_R.to(device)\n",
    "    \n",
    "    lr_R = lr_R.to(device)\n",
    "    lr_R = model_G(lr_R)\n",
    "    lr_R = lr_R.cpu().data.numpy()  # get the model result\n",
    "    lr_R[lr_R > 1] = 1\n",
    "    lr_R[lr_R < 0] = 0\n",
    "    lr_R = lr_R * 255\n",
    "    lr_R = np.reshape(lr_R, newshape=(1, lr_R.shape[2], lr_R.shape[3]))\n",
    "    torch.cuda.empty_cache()\n",
    "    \n",
    "    lr = np.concatenate([lr_B, lr_G, lr_R], axis=0)  # conbine the three channel together\n",
    "    lr = np.transpose(lr, (1, 2, 0))  # to normal range\n",
    "    lr = lr.astype(np.uint8)  # convert to uint8 type\n",
    "    \n",
    "    cv2.imwrite(os.path.join(base_path, \"B_G_R_channel.png\"), lr)\n",
    "    lr = lr.astype(np.float32)\n",
    "    print(\"PSNR for B_G_R channel: {:.3f}\".format(PSNR(hr, lr, 255)))\n",
    "    torch.cuda.empty_cache()\n",
    "    \n",
    "    \n",
    "def test_one_image(base_path, HR_path, LR_path, Y_model_path, B_model_path, \n",
    "                   G_model_path, R_model_path, BGR_model_path):\n",
    "    hr = cv2.imread(HR_path)\n",
    "    lr = cv2.imread(LR_path)\n",
    "    Bicubic = cv2.resize(lr, (hr.shape[1], hr.shape[0]))\n",
    "    cv2.imwrite(os.path.join(base_path, \"Bicubic.png\"), Bicubic)\n",
    "    hr = hr.astype(np.float32)\n",
    "    print(\"PSNR for Bicubic: {:.3f}\".format(PSNR(hr, Bicubic, 255)))\n",
    "    # Y channel model\n",
    "    Y_channel(base_path, HR_path, LR_path, Y_model_path)\n",
    "    # BGR channel model\n",
    "    BGR_channel(base_path, HR_path, LR_path, BGR_model_path)\n",
    "    # B G R model\n",
    "    B_G_R_channel(base_path, HR_path, LR_path, B_model_path, G_model_path, R_model_path)\n",
    "    "
   ]
  },
  {
   "cell_type": "code",
   "execution_count": 335,
   "id": "6471f718",
   "metadata": {},
   "outputs": [
    {
     "name": "stdout",
     "output_type": "stream",
     "text": [
      "PSNR for Bicubic: 33.780\n",
      "PSNR for Y channel: 36.006\n",
      "PSNR for BGR channel: 35.580\n",
      "PSNR for B_G_R channel: 36.048\n"
     ]
    }
   ],
   "source": [
    "test_one_image(base_path, os.path.join(base_path, \"test_HR.png\"), os.path.join(base_path, \"test_LR.png\"),\n",
    "              os.path.join(base_path, \"ESPCN_patch64_128_Ychannel_compare_BGR.model\"),\n",
    "              os.path.join(base_path, \"ESPCN_B_channel.model\"),\n",
    "              os.path.join(base_path, \"ESPCN_G_channel.model\"),\n",
    "              os.path.join(base_path, \"ESPCN_R_channel.model\"),\n",
    "              os.path.join(base_path, \"ESPCN_BGR_channel.model\"))"
   ]
  },
  {
   "cell_type": "code",
   "execution_count": 310,
   "id": "0e67f919",
   "metadata": {},
   "outputs": [],
   "source": [
    "torch.cuda.empty_cache()"
   ]
  }
 ],
 "metadata": {
  "kernelspec": {
   "display_name": "Python 3 (ipykernel)",
   "language": "python",
   "name": "python3"
  },
  "language_info": {
   "codemirror_mode": {
    "name": "ipython",
    "version": 3
   },
   "file_extension": ".py",
   "mimetype": "text/x-python",
   "name": "python",
   "nbconvert_exporter": "python",
   "pygments_lexer": "ipython3",
   "version": "3.10.6"
  }
 },
 "nbformat": 4,
 "nbformat_minor": 5
}
